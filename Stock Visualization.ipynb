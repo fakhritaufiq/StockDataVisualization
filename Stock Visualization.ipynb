{
  "nbformat": 4,
  "nbformat_minor": 0,
  "metadata": {
    "colab": {
      "name": "UAS_1301174415.ipynb",
      "provenance": [],
      "collapsed_sections": []
    },
    "kernelspec": {
      "name": "python3",
      "display_name": "Python 3"
    }
  },
  "cells": [
    {
      "cell_type": "markdown",
      "metadata": {
        "id": "fnt9VGtgdUnc"
      },
      "source": [
        "Fakhri Taufiqurrahman (1301174415)"
      ]
    },
    {
      "cell_type": "code",
      "metadata": {
        "id": "iQG2HXJud3j0"
      },
      "source": [
        "import pandas as pd\r\n",
        "import numpy as np\r\n",
        "from bokeh.layouts import layout, column, row\r\n",
        "from bokeh.io import curdoc\r\n",
        "from bokeh.plotting import figure, output_notebook, show\r\n",
        "from bokeh.io import output_notebook, show, output_file\r\n",
        "from bokeh.models import ColumnDataSource, HoverTool, Panel, CDSView, GroupFilter\r\n",
        "from bokeh.models.widgets import Tabs\r\n",
        "from matplotlib import style"
      ],
      "execution_count": 272,
      "outputs": []
    },
    {
      "cell_type": "code",
      "metadata": {
        "id": "JaxHRw3jd519"
      },
      "source": [
        "data = pd.read_csv('http://bit.ly/VD_FP', parse_dates=['Date'])\r\n",
        "\r\n",
        "data = data.reset_index()"
      ],
      "execution_count": 273,
      "outputs": []
    },
    {
      "cell_type": "code",
      "metadata": {
        "colab": {
          "base_uri": "https://localhost:8080/",
          "height": 143
        },
        "id": "ZFUtnIZtf15W",
        "outputId": "677e2f66-8341-40e8-8eff-f45df068c5be"
      },
      "source": [
        "data.head(3)"
      ],
      "execution_count": 274,
      "outputs": [
        {
          "output_type": "execute_result",
          "data": {
            "text/html": [
              "<div>\n",
              "<style scoped>\n",
              "    .dataframe tbody tr th:only-of-type {\n",
              "        vertical-align: middle;\n",
              "    }\n",
              "\n",
              "    .dataframe tbody tr th {\n",
              "        vertical-align: top;\n",
              "    }\n",
              "\n",
              "    .dataframe thead th {\n",
              "        text-align: right;\n",
              "    }\n",
              "</style>\n",
              "<table border=\"1\" class=\"dataframe\">\n",
              "  <thead>\n",
              "    <tr style=\"text-align: right;\">\n",
              "      <th></th>\n",
              "      <th>index</th>\n",
              "      <th>Date</th>\n",
              "      <th>Adj Close</th>\n",
              "      <th>Volume</th>\n",
              "      <th>Day_Perc_Change</th>\n",
              "      <th>Name</th>\n",
              "    </tr>\n",
              "  </thead>\n",
              "  <tbody>\n",
              "    <tr>\n",
              "      <th>0</th>\n",
              "      <td>0</td>\n",
              "      <td>2018-10-22</td>\n",
              "      <td>26153.150391</td>\n",
              "      <td>2.222812e+09</td>\n",
              "      <td>2.315014</td>\n",
              "      <td>HANG SENG</td>\n",
              "    </tr>\n",
              "    <tr>\n",
              "      <th>1</th>\n",
              "      <td>1</td>\n",
              "      <td>2018-10-23</td>\n",
              "      <td>25346.550781</td>\n",
              "      <td>1.772912e+09</td>\n",
              "      <td>-3.084139</td>\n",
              "      <td>HANG SENG</td>\n",
              "    </tr>\n",
              "    <tr>\n",
              "      <th>2</th>\n",
              "      <td>2</td>\n",
              "      <td>2018-10-24</td>\n",
              "      <td>25249.779297</td>\n",
              "      <td>1.962754e+09</td>\n",
              "      <td>-0.381794</td>\n",
              "      <td>HANG SENG</td>\n",
              "    </tr>\n",
              "  </tbody>\n",
              "</table>\n",
              "</div>"
            ],
            "text/plain": [
              "   index       Date     Adj Close        Volume  Day_Perc_Change       Name\n",
              "0      0 2018-10-22  26153.150391  2.222812e+09         2.315014  HANG SENG\n",
              "1      1 2018-10-23  25346.550781  1.772912e+09        -3.084139  HANG SENG\n",
              "2      2 2018-10-24  25249.779297  1.962754e+09        -0.381794  HANG SENG"
            ]
          },
          "metadata": {
            "tags": []
          },
          "execution_count": 274
        }
      ]
    },
    {
      "cell_type": "code",
      "metadata": {
        "id": "kvFv7vdOd8wD"
      },
      "source": [
        "data_adj = (data[(data['Name'] == 'HANG SENG') | (data['Name'] == 'NIKKEI') | (data['Name'] == 'NASDAQ')]\r\n",
        "              .loc[:, ['Adj Close', 'Date', 'Name']]\r\n",
        "              .sort_values(['Name','Date']))\r\n",
        "\r\n",
        "data_vol = (data[(data['Name'] == 'HANG SENG') | (data['Name'] == 'NIKKEI') | (data['Name'] == 'NASDAQ')]\r\n",
        "              .loc[:, ['Volume', 'Date', 'Name']]\r\n",
        "              .sort_values(['Name','Date']))\r\n",
        "\r\n",
        "data_dpc = (data[(data['Name'] == 'HANG SENG') | (data['Name'] == 'NIKKEI') | (data['Name'] == 'NASDAQ')]\r\n",
        "              .loc[:, ['Day_Perc_Change', 'Date', 'Name']]\r\n",
        "              .sort_values(['Name','Date']))"
      ],
      "execution_count": 275,
      "outputs": []
    },
    {
      "cell_type": "code",
      "metadata": {
        "id": "iHKlzcdod-gc"
      },
      "source": [
        "HS = data_adj[data_adj['Name'] == 'HANG SENG']\r\n",
        "NS = data_adj[data_adj['Name'] == 'NASDAQ']\r\n",
        "NK = data_adj[data_adj['Name'] == 'NIKKEI']"
      ],
      "execution_count": 276,
      "outputs": []
    },
    {
      "cell_type": "code",
      "metadata": {
        "id": "YU84Xa8qd_w0"
      },
      "source": [
        "HS_cds = ColumnDataSource(HS)\r\n",
        "NS_cds = ColumnDataSource(NS)\r\n",
        "NK_cds = ColumnDataSource(NK)"
      ],
      "execution_count": 277,
      "outputs": []
    },
    {
      "cell_type": "code",
      "metadata": {
        "id": "Qstl5feveBYc"
      },
      "source": [
        "tooltips = [\r\n",
        "            ('Index', '@Name'),\r\n",
        "            ('Adj Close', '@{Adj Close}'),\r\n",
        "           ]"
      ],
      "execution_count": 278,
      "outputs": []
    },
    {
      "cell_type": "code",
      "metadata": {
        "id": "FLUa19l8eDB0"
      },
      "source": [
        "fig = figure(x_axis_type='datetime',\r\n",
        "             plot_height=400, plot_width=600,\r\n",
        "             title='Adj Close',\r\n",
        "             x_axis_label='Date', y_axis_label='Adj Close',\r\n",
        "             toolbar_location=None)"
      ],
      "execution_count": 279,
      "outputs": []
    },
    {
      "cell_type": "code",
      "metadata": {
        "colab": {
          "base_uri": "https://localhost:8080/",
          "height": 34
        },
        "id": "xyPNMg3neGNW",
        "outputId": "6c1c0258-cefa-4779-ba99-2e716d6af092"
      },
      "source": [
        "fig.line('Date', 'Adj Close',\r\n",
        "         color='red', legend_label='Hang seng',\r\n",
        "         source=HS_cds)\r\n",
        "fig.line('Date', 'Adj Close',\r\n",
        "         color='blue', legend_label='Nasdaq',\r\n",
        "         source=NS_cds)\r\n",
        "fig.line('Date', 'Adj Close',\r\n",
        "         color='green', legend_label='Nikkie',\r\n",
        "         source=NK_cds)"
      ],
      "execution_count": 280,
      "outputs": [
        {
          "output_type": "execute_result",
          "data": {
            "text/html": [
              "<div style=\"display: table;\"><div style=\"display: table-row;\"><div style=\"display: table-cell;\"><b title=\"bokeh.models.renderers.GlyphRenderer\">GlyphRenderer</b>(</div><div style=\"display: table-cell;\">id&nbsp;=&nbsp;'16777', <span id=\"16805\" style=\"cursor: pointer;\">&hellip;)</span></div></div><div class=\"16804\" style=\"display: none;\"><div style=\"display: table-cell;\"></div><div style=\"display: table-cell;\">data_source&nbsp;=&nbsp;ColumnDataSource(id='16685', ...),</div></div><div class=\"16804\" style=\"display: none;\"><div style=\"display: table-cell;\"></div><div style=\"display: table-cell;\">glyph&nbsp;=&nbsp;Line(id='16775', ...),</div></div><div class=\"16804\" style=\"display: none;\"><div style=\"display: table-cell;\"></div><div style=\"display: table-cell;\">hover_glyph&nbsp;=&nbsp;None,</div></div><div class=\"16804\" style=\"display: none;\"><div style=\"display: table-cell;\"></div><div style=\"display: table-cell;\">js_event_callbacks&nbsp;=&nbsp;{},</div></div><div class=\"16804\" style=\"display: none;\"><div style=\"display: table-cell;\"></div><div style=\"display: table-cell;\">js_property_callbacks&nbsp;=&nbsp;{},</div></div><div class=\"16804\" style=\"display: none;\"><div style=\"display: table-cell;\"></div><div style=\"display: table-cell;\">level&nbsp;=&nbsp;'glyph',</div></div><div class=\"16804\" style=\"display: none;\"><div style=\"display: table-cell;\"></div><div style=\"display: table-cell;\">muted&nbsp;=&nbsp;False,</div></div><div class=\"16804\" style=\"display: none;\"><div style=\"display: table-cell;\"></div><div style=\"display: table-cell;\">muted_glyph&nbsp;=&nbsp;None,</div></div><div class=\"16804\" style=\"display: none;\"><div style=\"display: table-cell;\"></div><div style=\"display: table-cell;\">name&nbsp;=&nbsp;None,</div></div><div class=\"16804\" style=\"display: none;\"><div style=\"display: table-cell;\"></div><div style=\"display: table-cell;\">nonselection_glyph&nbsp;=&nbsp;Line(id='16776', ...),</div></div><div class=\"16804\" style=\"display: none;\"><div style=\"display: table-cell;\"></div><div style=\"display: table-cell;\">selection_glyph&nbsp;=&nbsp;None,</div></div><div class=\"16804\" style=\"display: none;\"><div style=\"display: table-cell;\"></div><div style=\"display: table-cell;\">subscribed_events&nbsp;=&nbsp;[],</div></div><div class=\"16804\" style=\"display: none;\"><div style=\"display: table-cell;\"></div><div style=\"display: table-cell;\">tags&nbsp;=&nbsp;[],</div></div><div class=\"16804\" style=\"display: none;\"><div style=\"display: table-cell;\"></div><div style=\"display: table-cell;\">view&nbsp;=&nbsp;CDSView(id='16778', ...),</div></div><div class=\"16804\" style=\"display: none;\"><div style=\"display: table-cell;\"></div><div style=\"display: table-cell;\">visible&nbsp;=&nbsp;True,</div></div><div class=\"16804\" style=\"display: none;\"><div style=\"display: table-cell;\"></div><div style=\"display: table-cell;\">x_range_name&nbsp;=&nbsp;'default',</div></div><div class=\"16804\" style=\"display: none;\"><div style=\"display: table-cell;\"></div><div style=\"display: table-cell;\">y_range_name&nbsp;=&nbsp;'default')</div></div></div>\n",
              "<script>\n",
              "(function() {\n",
              "  var expanded = false;\n",
              "  var ellipsis = document.getElementById(\"16805\");\n",
              "  ellipsis.addEventListener(\"click\", function() {\n",
              "    var rows = document.getElementsByClassName(\"16804\");\n",
              "    for (var i = 0; i < rows.length; i++) {\n",
              "      var el = rows[i];\n",
              "      el.style.display = expanded ? \"none\" : \"table-row\";\n",
              "    }\n",
              "    ellipsis.innerHTML = expanded ? \"&hellip;)\" : \"&lsaquo;&lsaquo;&lsaquo;\";\n",
              "    expanded = !expanded;\n",
              "  });\n",
              "})();\n",
              "</script>\n"
            ],
            "text/plain": [
              "GlyphRenderer(id='16777', ...)"
            ]
          },
          "metadata": {
            "tags": []
          },
          "execution_count": 280
        }
      ]
    },
    {
      "cell_type": "code",
      "metadata": {
        "id": "J9QlPRrzeHSL"
      },
      "source": [
        "fig.legend.location = 'top_right'"
      ],
      "execution_count": 281,
      "outputs": []
    },
    {
      "cell_type": "code",
      "metadata": {
        "id": "Dc_ahTpxeIxt"
      },
      "source": [
        "fig.add_tools(HoverTool(tooltips=tooltips))"
      ],
      "execution_count": 282,
      "outputs": []
    },
    {
      "cell_type": "markdown",
      "metadata": {
        "id": "gXR-WFNMeKfL"
      },
      "source": [
        "**Level 2**"
      ]
    },
    {
      "cell_type": "code",
      "metadata": {
        "id": "_mItDytbeJp0"
      },
      "source": [
        "HS = data_adj[data_adj['Name'] == 'HANG SENG']\r\n",
        "NS = data_adj[data_adj['Name'] == 'NASDAQ']\r\n",
        "NK = data_adj[data_adj['Name'] == 'NIKKEI']"
      ],
      "execution_count": 283,
      "outputs": []
    },
    {
      "cell_type": "code",
      "metadata": {
        "id": "bAEfYgOfeOu4"
      },
      "source": [
        "HS_cds = ColumnDataSource(HS)\r\n",
        "NS_cds = ColumnDataSource(NS)\r\n",
        "NK_cds = ColumnDataSource(NK)"
      ],
      "execution_count": 284,
      "outputs": []
    },
    {
      "cell_type": "code",
      "metadata": {
        "id": "zYnbwvxBeQlc"
      },
      "source": [
        "tooltips = [\r\n",
        "            ('Index', '@Name'),\r\n",
        "            ('Adj Close', '@{Adj Close}'),\r\n",
        "           ]"
      ],
      "execution_count": 285,
      "outputs": []
    },
    {
      "cell_type": "code",
      "metadata": {
        "id": "bOj4XizCeRNt"
      },
      "source": [
        "fig = figure(x_axis_type='datetime',\r\n",
        "             plot_height=400, plot_width=600,\r\n",
        "             title='Adj Close',\r\n",
        "             x_axis_label='Date', y_axis_label='Adj Close',\r\n",
        "             toolbar_location=None)"
      ],
      "execution_count": 286,
      "outputs": []
    },
    {
      "cell_type": "code",
      "metadata": {
        "colab": {
          "base_uri": "https://localhost:8080/",
          "height": 34
        },
        "id": "qRyC9cJaeSiM",
        "outputId": "fa003f2d-3d0a-4578-f1e6-71fa63501ece"
      },
      "source": [
        "fig.line('Date', 'Adj Close',\r\n",
        "         color='red', legend_label='Hang seng',\r\n",
        "         source=HS_cds)\r\n",
        "fig.line('Date', 'Adj Close',\r\n",
        "         color='blue', legend_label='Nasdaq',\r\n",
        "         source=NS_cds)\r\n",
        "fig.line('Date', 'Adj Close',\r\n",
        "         color='green', legend_label='Nikkie',\r\n",
        "         source=NK_cds)"
      ],
      "execution_count": 287,
      "outputs": [
        {
          "output_type": "execute_result",
          "data": {
            "text/html": [
              "<div style=\"display: table;\"><div style=\"display: table-row;\"><div style=\"display: table-cell;\"><b title=\"bokeh.models.renderers.GlyphRenderer\">GlyphRenderer</b>(</div><div style=\"display: table-cell;\">id&nbsp;=&nbsp;'16902', <span id=\"16930\" style=\"cursor: pointer;\">&hellip;)</span></div></div><div class=\"16929\" style=\"display: none;\"><div style=\"display: table-cell;\"></div><div style=\"display: table-cell;\">data_source&nbsp;=&nbsp;ColumnDataSource(id='16810', ...),</div></div><div class=\"16929\" style=\"display: none;\"><div style=\"display: table-cell;\"></div><div style=\"display: table-cell;\">glyph&nbsp;=&nbsp;Line(id='16900', ...),</div></div><div class=\"16929\" style=\"display: none;\"><div style=\"display: table-cell;\"></div><div style=\"display: table-cell;\">hover_glyph&nbsp;=&nbsp;None,</div></div><div class=\"16929\" style=\"display: none;\"><div style=\"display: table-cell;\"></div><div style=\"display: table-cell;\">js_event_callbacks&nbsp;=&nbsp;{},</div></div><div class=\"16929\" style=\"display: none;\"><div style=\"display: table-cell;\"></div><div style=\"display: table-cell;\">js_property_callbacks&nbsp;=&nbsp;{},</div></div><div class=\"16929\" style=\"display: none;\"><div style=\"display: table-cell;\"></div><div style=\"display: table-cell;\">level&nbsp;=&nbsp;'glyph',</div></div><div class=\"16929\" style=\"display: none;\"><div style=\"display: table-cell;\"></div><div style=\"display: table-cell;\">muted&nbsp;=&nbsp;False,</div></div><div class=\"16929\" style=\"display: none;\"><div style=\"display: table-cell;\"></div><div style=\"display: table-cell;\">muted_glyph&nbsp;=&nbsp;None,</div></div><div class=\"16929\" style=\"display: none;\"><div style=\"display: table-cell;\"></div><div style=\"display: table-cell;\">name&nbsp;=&nbsp;None,</div></div><div class=\"16929\" style=\"display: none;\"><div style=\"display: table-cell;\"></div><div style=\"display: table-cell;\">nonselection_glyph&nbsp;=&nbsp;Line(id='16901', ...),</div></div><div class=\"16929\" style=\"display: none;\"><div style=\"display: table-cell;\"></div><div style=\"display: table-cell;\">selection_glyph&nbsp;=&nbsp;None,</div></div><div class=\"16929\" style=\"display: none;\"><div style=\"display: table-cell;\"></div><div style=\"display: table-cell;\">subscribed_events&nbsp;=&nbsp;[],</div></div><div class=\"16929\" style=\"display: none;\"><div style=\"display: table-cell;\"></div><div style=\"display: table-cell;\">tags&nbsp;=&nbsp;[],</div></div><div class=\"16929\" style=\"display: none;\"><div style=\"display: table-cell;\"></div><div style=\"display: table-cell;\">view&nbsp;=&nbsp;CDSView(id='16903', ...),</div></div><div class=\"16929\" style=\"display: none;\"><div style=\"display: table-cell;\"></div><div style=\"display: table-cell;\">visible&nbsp;=&nbsp;True,</div></div><div class=\"16929\" style=\"display: none;\"><div style=\"display: table-cell;\"></div><div style=\"display: table-cell;\">x_range_name&nbsp;=&nbsp;'default',</div></div><div class=\"16929\" style=\"display: none;\"><div style=\"display: table-cell;\"></div><div style=\"display: table-cell;\">y_range_name&nbsp;=&nbsp;'default')</div></div></div>\n",
              "<script>\n",
              "(function() {\n",
              "  var expanded = false;\n",
              "  var ellipsis = document.getElementById(\"16930\");\n",
              "  ellipsis.addEventListener(\"click\", function() {\n",
              "    var rows = document.getElementsByClassName(\"16929\");\n",
              "    for (var i = 0; i < rows.length; i++) {\n",
              "      var el = rows[i];\n",
              "      el.style.display = expanded ? \"none\" : \"table-row\";\n",
              "    }\n",
              "    ellipsis.innerHTML = expanded ? \"&hellip;)\" : \"&lsaquo;&lsaquo;&lsaquo;\";\n",
              "    expanded = !expanded;\n",
              "  });\n",
              "})();\n",
              "</script>\n"
            ],
            "text/plain": [
              "GlyphRenderer(id='16902', ...)"
            ]
          },
          "metadata": {
            "tags": []
          },
          "execution_count": 287
        }
      ]
    },
    {
      "cell_type": "code",
      "metadata": {
        "id": "REg3xfuMeTkW"
      },
      "source": [
        "fig.legend.location = 'top_right'"
      ],
      "execution_count": 288,
      "outputs": []
    },
    {
      "cell_type": "code",
      "metadata": {
        "id": "PugVlDLpeVaL"
      },
      "source": [
        "fig.add_tools(HoverTool(tooltips=tooltips))"
      ],
      "execution_count": 289,
      "outputs": []
    },
    {
      "cell_type": "code",
      "metadata": {
        "id": "MTxVs7I1eWYb"
      },
      "source": [
        "HS = data_vol[data_vol['Name'] == 'HANG SENG']\r\n",
        "NS = data_vol[data_vol['Name'] == 'NASDAQ']\r\n",
        "NK = data_vol[data_vol['Name'] == 'NIKKEI']"
      ],
      "execution_count": 290,
      "outputs": []
    },
    {
      "cell_type": "code",
      "metadata": {
        "id": "3yO8cPzheaxj"
      },
      "source": [
        "HS_cds = ColumnDataSource(HS)\r\n",
        "NS_cds = ColumnDataSource(NS)\r\n",
        "NK_cds = ColumnDataSource(NK)"
      ],
      "execution_count": 291,
      "outputs": []
    },
    {
      "cell_type": "code",
      "metadata": {
        "id": "7zjL6zhGecMr"
      },
      "source": [
        "tooltips = [\r\n",
        "            ('Index', '@Name'),\r\n",
        "            ('Volume', '@{Volume}'),\r\n",
        "           ]"
      ],
      "execution_count": 292,
      "outputs": []
    },
    {
      "cell_type": "code",
      "metadata": {
        "id": "rRUM9njIedLi"
      },
      "source": [
        "fig1 = figure(x_axis_type='datetime',\r\n",
        "             plot_height=400, plot_width=600,\r\n",
        "             title='Volume',\r\n",
        "             x_axis_label='Date', y_axis_label='Volume',\r\n",
        "             toolbar_location=None)"
      ],
      "execution_count": 293,
      "outputs": []
    },
    {
      "cell_type": "code",
      "metadata": {
        "colab": {
          "base_uri": "https://localhost:8080/",
          "height": 34
        },
        "id": "uWj-bmFpeeLt",
        "outputId": "410a9350-652d-4b40-d28f-cf971dde132a"
      },
      "source": [
        "fig1.line('Date', 'Volume',\r\n",
        "         color='red', legend_label='Hang seng',\r\n",
        "         source=HS_cds)\r\n",
        "fig1.line('Date', 'Volume',\r\n",
        "         color='blue', legend_label='Nasdaq',\r\n",
        "         source=NS_cds)\r\n",
        "fig1.line('Date', 'Volume',\r\n",
        "         color='green', legend_label='Nikkie',\r\n",
        "         source=NK_cds)"
      ],
      "execution_count": 294,
      "outputs": [
        {
          "output_type": "execute_result",
          "data": {
            "text/html": [
              "<div style=\"display: table;\"><div style=\"display: table-row;\"><div style=\"display: table-cell;\"><b title=\"bokeh.models.renderers.GlyphRenderer\">GlyphRenderer</b>(</div><div style=\"display: table-cell;\">id&nbsp;=&nbsp;'17027', <span id=\"17055\" style=\"cursor: pointer;\">&hellip;)</span></div></div><div class=\"17054\" style=\"display: none;\"><div style=\"display: table-cell;\"></div><div style=\"display: table-cell;\">data_source&nbsp;=&nbsp;ColumnDataSource(id='16935', ...),</div></div><div class=\"17054\" style=\"display: none;\"><div style=\"display: table-cell;\"></div><div style=\"display: table-cell;\">glyph&nbsp;=&nbsp;Line(id='17025', ...),</div></div><div class=\"17054\" style=\"display: none;\"><div style=\"display: table-cell;\"></div><div style=\"display: table-cell;\">hover_glyph&nbsp;=&nbsp;None,</div></div><div class=\"17054\" style=\"display: none;\"><div style=\"display: table-cell;\"></div><div style=\"display: table-cell;\">js_event_callbacks&nbsp;=&nbsp;{},</div></div><div class=\"17054\" style=\"display: none;\"><div style=\"display: table-cell;\"></div><div style=\"display: table-cell;\">js_property_callbacks&nbsp;=&nbsp;{},</div></div><div class=\"17054\" style=\"display: none;\"><div style=\"display: table-cell;\"></div><div style=\"display: table-cell;\">level&nbsp;=&nbsp;'glyph',</div></div><div class=\"17054\" style=\"display: none;\"><div style=\"display: table-cell;\"></div><div style=\"display: table-cell;\">muted&nbsp;=&nbsp;False,</div></div><div class=\"17054\" style=\"display: none;\"><div style=\"display: table-cell;\"></div><div style=\"display: table-cell;\">muted_glyph&nbsp;=&nbsp;None,</div></div><div class=\"17054\" style=\"display: none;\"><div style=\"display: table-cell;\"></div><div style=\"display: table-cell;\">name&nbsp;=&nbsp;None,</div></div><div class=\"17054\" style=\"display: none;\"><div style=\"display: table-cell;\"></div><div style=\"display: table-cell;\">nonselection_glyph&nbsp;=&nbsp;Line(id='17026', ...),</div></div><div class=\"17054\" style=\"display: none;\"><div style=\"display: table-cell;\"></div><div style=\"display: table-cell;\">selection_glyph&nbsp;=&nbsp;None,</div></div><div class=\"17054\" style=\"display: none;\"><div style=\"display: table-cell;\"></div><div style=\"display: table-cell;\">subscribed_events&nbsp;=&nbsp;[],</div></div><div class=\"17054\" style=\"display: none;\"><div style=\"display: table-cell;\"></div><div style=\"display: table-cell;\">tags&nbsp;=&nbsp;[],</div></div><div class=\"17054\" style=\"display: none;\"><div style=\"display: table-cell;\"></div><div style=\"display: table-cell;\">view&nbsp;=&nbsp;CDSView(id='17028', ...),</div></div><div class=\"17054\" style=\"display: none;\"><div style=\"display: table-cell;\"></div><div style=\"display: table-cell;\">visible&nbsp;=&nbsp;True,</div></div><div class=\"17054\" style=\"display: none;\"><div style=\"display: table-cell;\"></div><div style=\"display: table-cell;\">x_range_name&nbsp;=&nbsp;'default',</div></div><div class=\"17054\" style=\"display: none;\"><div style=\"display: table-cell;\"></div><div style=\"display: table-cell;\">y_range_name&nbsp;=&nbsp;'default')</div></div></div>\n",
              "<script>\n",
              "(function() {\n",
              "  var expanded = false;\n",
              "  var ellipsis = document.getElementById(\"17055\");\n",
              "  ellipsis.addEventListener(\"click\", function() {\n",
              "    var rows = document.getElementsByClassName(\"17054\");\n",
              "    for (var i = 0; i < rows.length; i++) {\n",
              "      var el = rows[i];\n",
              "      el.style.display = expanded ? \"none\" : \"table-row\";\n",
              "    }\n",
              "    ellipsis.innerHTML = expanded ? \"&hellip;)\" : \"&lsaquo;&lsaquo;&lsaquo;\";\n",
              "    expanded = !expanded;\n",
              "  });\n",
              "})();\n",
              "</script>\n"
            ],
            "text/plain": [
              "GlyphRenderer(id='17027', ...)"
            ]
          },
          "metadata": {
            "tags": []
          },
          "execution_count": 294
        }
      ]
    },
    {
      "cell_type": "code",
      "metadata": {
        "id": "w0V1FnDqef8e"
      },
      "source": [
        "fig1.legend.location = 'top_right'"
      ],
      "execution_count": 295,
      "outputs": []
    },
    {
      "cell_type": "code",
      "metadata": {
        "id": "c_BVoq4EeiKz"
      },
      "source": [
        "fig1.add_tools(HoverTool(tooltips=tooltips))"
      ],
      "execution_count": 296,
      "outputs": []
    },
    {
      "cell_type": "code",
      "metadata": {
        "id": "194C_WP8ejCM"
      },
      "source": [
        "HS = data_dpc[data_dpc['Name'] == 'HANG SENG']\r\n",
        "NS = data_dpc[data_dpc['Name'] == 'NASDAQ']\r\n",
        "NK = data_dpc[data_dpc['Name'] == 'NIKKEI']"
      ],
      "execution_count": 297,
      "outputs": []
    },
    {
      "cell_type": "code",
      "metadata": {
        "id": "xYrkWU_3ekHm"
      },
      "source": [
        "HS_cds = ColumnDataSource(HS)\r\n",
        "NS_cds = ColumnDataSource(NS)\r\n",
        "NK_cds = ColumnDataSource(NK)"
      ],
      "execution_count": 298,
      "outputs": []
    },
    {
      "cell_type": "code",
      "metadata": {
        "id": "bpO4aH-AelRF"
      },
      "source": [
        "tooltips = [\r\n",
        "            ('Index', '@Name'),\r\n",
        "            ('Day_Perc_Change', '@{Day_Perc_Change}'),\r\n",
        "           ]"
      ],
      "execution_count": 299,
      "outputs": []
    },
    {
      "cell_type": "code",
      "metadata": {
        "id": "uXUPKVYcemYn"
      },
      "source": [
        "fig2 = figure(x_axis_type='datetime',\r\n",
        "             plot_height=400, plot_width=600,\r\n",
        "             title='Daily Perc Change',\r\n",
        "             x_axis_label='Date', y_axis_label='Day_Perc_Change',\r\n",
        "             toolbar_location=None)"
      ],
      "execution_count": 300,
      "outputs": []
    },
    {
      "cell_type": "code",
      "metadata": {
        "colab": {
          "base_uri": "https://localhost:8080/",
          "height": 34
        },
        "id": "9NRcl-JcenbL",
        "outputId": "2ac0655f-e2b0-4d96-966a-6402dc65e14d"
      },
      "source": [
        "fig2.line('Date', 'Day_Perc_Change',\r\n",
        "         color='red', legend_label='Hang seng',\r\n",
        "         source=HS_cds)\r\n",
        "fig2.line('Date', 'Day_Perc_Change',\r\n",
        "         color='blue', legend_label='Nasdaq',\r\n",
        "         source=NS_cds)\r\n",
        "fig2.line('Date', 'Day_Perc_Change',\r\n",
        "         color='green', legend_label='Nikkie',\r\n",
        "         source=NK_cds)"
      ],
      "execution_count": 301,
      "outputs": [
        {
          "output_type": "execute_result",
          "data": {
            "text/html": [
              "<div style=\"display: table;\"><div style=\"display: table-row;\"><div style=\"display: table-cell;\"><b title=\"bokeh.models.renderers.GlyphRenderer\">GlyphRenderer</b>(</div><div style=\"display: table-cell;\">id&nbsp;=&nbsp;'17152', <span id=\"17180\" style=\"cursor: pointer;\">&hellip;)</span></div></div><div class=\"17179\" style=\"display: none;\"><div style=\"display: table-cell;\"></div><div style=\"display: table-cell;\">data_source&nbsp;=&nbsp;ColumnDataSource(id='17060', ...),</div></div><div class=\"17179\" style=\"display: none;\"><div style=\"display: table-cell;\"></div><div style=\"display: table-cell;\">glyph&nbsp;=&nbsp;Line(id='17150', ...),</div></div><div class=\"17179\" style=\"display: none;\"><div style=\"display: table-cell;\"></div><div style=\"display: table-cell;\">hover_glyph&nbsp;=&nbsp;None,</div></div><div class=\"17179\" style=\"display: none;\"><div style=\"display: table-cell;\"></div><div style=\"display: table-cell;\">js_event_callbacks&nbsp;=&nbsp;{},</div></div><div class=\"17179\" style=\"display: none;\"><div style=\"display: table-cell;\"></div><div style=\"display: table-cell;\">js_property_callbacks&nbsp;=&nbsp;{},</div></div><div class=\"17179\" style=\"display: none;\"><div style=\"display: table-cell;\"></div><div style=\"display: table-cell;\">level&nbsp;=&nbsp;'glyph',</div></div><div class=\"17179\" style=\"display: none;\"><div style=\"display: table-cell;\"></div><div style=\"display: table-cell;\">muted&nbsp;=&nbsp;False,</div></div><div class=\"17179\" style=\"display: none;\"><div style=\"display: table-cell;\"></div><div style=\"display: table-cell;\">muted_glyph&nbsp;=&nbsp;None,</div></div><div class=\"17179\" style=\"display: none;\"><div style=\"display: table-cell;\"></div><div style=\"display: table-cell;\">name&nbsp;=&nbsp;None,</div></div><div class=\"17179\" style=\"display: none;\"><div style=\"display: table-cell;\"></div><div style=\"display: table-cell;\">nonselection_glyph&nbsp;=&nbsp;Line(id='17151', ...),</div></div><div class=\"17179\" style=\"display: none;\"><div style=\"display: table-cell;\"></div><div style=\"display: table-cell;\">selection_glyph&nbsp;=&nbsp;None,</div></div><div class=\"17179\" style=\"display: none;\"><div style=\"display: table-cell;\"></div><div style=\"display: table-cell;\">subscribed_events&nbsp;=&nbsp;[],</div></div><div class=\"17179\" style=\"display: none;\"><div style=\"display: table-cell;\"></div><div style=\"display: table-cell;\">tags&nbsp;=&nbsp;[],</div></div><div class=\"17179\" style=\"display: none;\"><div style=\"display: table-cell;\"></div><div style=\"display: table-cell;\">view&nbsp;=&nbsp;CDSView(id='17153', ...),</div></div><div class=\"17179\" style=\"display: none;\"><div style=\"display: table-cell;\"></div><div style=\"display: table-cell;\">visible&nbsp;=&nbsp;True,</div></div><div class=\"17179\" style=\"display: none;\"><div style=\"display: table-cell;\"></div><div style=\"display: table-cell;\">x_range_name&nbsp;=&nbsp;'default',</div></div><div class=\"17179\" style=\"display: none;\"><div style=\"display: table-cell;\"></div><div style=\"display: table-cell;\">y_range_name&nbsp;=&nbsp;'default')</div></div></div>\n",
              "<script>\n",
              "(function() {\n",
              "  var expanded = false;\n",
              "  var ellipsis = document.getElementById(\"17180\");\n",
              "  ellipsis.addEventListener(\"click\", function() {\n",
              "    var rows = document.getElementsByClassName(\"17179\");\n",
              "    for (var i = 0; i < rows.length; i++) {\n",
              "      var el = rows[i];\n",
              "      el.style.display = expanded ? \"none\" : \"table-row\";\n",
              "    }\n",
              "    ellipsis.innerHTML = expanded ? \"&hellip;)\" : \"&lsaquo;&lsaquo;&lsaquo;\";\n",
              "    expanded = !expanded;\n",
              "  });\n",
              "})();\n",
              "</script>\n"
            ],
            "text/plain": [
              "GlyphRenderer(id='17152', ...)"
            ]
          },
          "metadata": {
            "tags": []
          },
          "execution_count": 301
        }
      ]
    },
    {
      "cell_type": "code",
      "metadata": {
        "id": "zXxH3abWepWE"
      },
      "source": [
        "fig2.legend.location = 'top_right'"
      ],
      "execution_count": 302,
      "outputs": []
    },
    {
      "cell_type": "code",
      "metadata": {
        "id": "9toy6CeSeqYz"
      },
      "source": [
        "fig2.add_tools(HoverTool(tooltips=tooltips))"
      ],
      "execution_count": 303,
      "outputs": []
    },
    {
      "cell_type": "markdown",
      "metadata": {
        "id": "nYc1ET_Qeuwd"
      },
      "source": [
        "**Level 3**"
      ]
    },
    {
      "cell_type": "code",
      "metadata": {
        "id": "G0CFGWknerN7"
      },
      "source": [
        "HS = data_adj[data_adj['Name'] == 'HANG SENG']\r\n",
        "NS = data_adj[data_adj['Name'] == 'NASDAQ']\r\n",
        "NK = data_adj[data_adj['Name'] == 'NIKKEI']"
      ],
      "execution_count": 304,
      "outputs": []
    },
    {
      "cell_type": "code",
      "metadata": {
        "id": "hY6Knny8eyXL"
      },
      "source": [
        "HS_cds = ColumnDataSource(HS)\r\n",
        "NS_cds = ColumnDataSource(NS)\r\n",
        "NK_cds = ColumnDataSource(NK)"
      ],
      "execution_count": 305,
      "outputs": []
    },
    {
      "cell_type": "code",
      "metadata": {
        "id": "6RD0WJoLezXN"
      },
      "source": [
        "tooltips = [\r\n",
        "            ('Index', '@Name'),\r\n",
        "            ('Adj Close', '@{Adj Close}'),\r\n",
        "           ]"
      ],
      "execution_count": 306,
      "outputs": []
    },
    {
      "cell_type": "code",
      "metadata": {
        "id": "GtvELKweezvm"
      },
      "source": [
        "fig_level_3 = figure(x_axis_type='datetime',\r\n",
        "             plot_height=400, plot_width=600,\r\n",
        "             title='Adj Close',\r\n",
        "             x_axis_label='Date', y_axis_label='Adj Close',\r\n",
        "             toolbar_location=None)"
      ],
      "execution_count": 307,
      "outputs": []
    },
    {
      "cell_type": "code",
      "metadata": {
        "colab": {
          "base_uri": "https://localhost:8080/",
          "height": 34
        },
        "id": "XwdvN4hae3C2",
        "outputId": "6ec42e37-41b2-4868-dea8-9a85adda9fd8"
      },
      "source": [
        "fig_level_3.line('Date', 'Adj Close',\r\n",
        "         color='red', legend_label='Hang seng',\r\n",
        "         source=HS_cds)\r\n",
        "fig_level_3.line('Date', 'Adj Close',\r\n",
        "         color='blue', legend_label='Nasdaq',\r\n",
        "         source=NS_cds)\r\n",
        "fig_level_3.line('Date', 'Adj Close',\r\n",
        "         color='green', legend_label='Nikkie',\r\n",
        "         source=NK_cds)"
      ],
      "execution_count": 308,
      "outputs": [
        {
          "output_type": "execute_result",
          "data": {
            "text/html": [
              "<div style=\"display: table;\"><div style=\"display: table-row;\"><div style=\"display: table-cell;\"><b title=\"bokeh.models.renderers.GlyphRenderer\">GlyphRenderer</b>(</div><div style=\"display: table-cell;\">id&nbsp;=&nbsp;'17277', <span id=\"17305\" style=\"cursor: pointer;\">&hellip;)</span></div></div><div class=\"17304\" style=\"display: none;\"><div style=\"display: table-cell;\"></div><div style=\"display: table-cell;\">data_source&nbsp;=&nbsp;ColumnDataSource(id='17185', ...),</div></div><div class=\"17304\" style=\"display: none;\"><div style=\"display: table-cell;\"></div><div style=\"display: table-cell;\">glyph&nbsp;=&nbsp;Line(id='17275', ...),</div></div><div class=\"17304\" style=\"display: none;\"><div style=\"display: table-cell;\"></div><div style=\"display: table-cell;\">hover_glyph&nbsp;=&nbsp;None,</div></div><div class=\"17304\" style=\"display: none;\"><div style=\"display: table-cell;\"></div><div style=\"display: table-cell;\">js_event_callbacks&nbsp;=&nbsp;{},</div></div><div class=\"17304\" style=\"display: none;\"><div style=\"display: table-cell;\"></div><div style=\"display: table-cell;\">js_property_callbacks&nbsp;=&nbsp;{},</div></div><div class=\"17304\" style=\"display: none;\"><div style=\"display: table-cell;\"></div><div style=\"display: table-cell;\">level&nbsp;=&nbsp;'glyph',</div></div><div class=\"17304\" style=\"display: none;\"><div style=\"display: table-cell;\"></div><div style=\"display: table-cell;\">muted&nbsp;=&nbsp;False,</div></div><div class=\"17304\" style=\"display: none;\"><div style=\"display: table-cell;\"></div><div style=\"display: table-cell;\">muted_glyph&nbsp;=&nbsp;None,</div></div><div class=\"17304\" style=\"display: none;\"><div style=\"display: table-cell;\"></div><div style=\"display: table-cell;\">name&nbsp;=&nbsp;None,</div></div><div class=\"17304\" style=\"display: none;\"><div style=\"display: table-cell;\"></div><div style=\"display: table-cell;\">nonselection_glyph&nbsp;=&nbsp;Line(id='17276', ...),</div></div><div class=\"17304\" style=\"display: none;\"><div style=\"display: table-cell;\"></div><div style=\"display: table-cell;\">selection_glyph&nbsp;=&nbsp;None,</div></div><div class=\"17304\" style=\"display: none;\"><div style=\"display: table-cell;\"></div><div style=\"display: table-cell;\">subscribed_events&nbsp;=&nbsp;[],</div></div><div class=\"17304\" style=\"display: none;\"><div style=\"display: table-cell;\"></div><div style=\"display: table-cell;\">tags&nbsp;=&nbsp;[],</div></div><div class=\"17304\" style=\"display: none;\"><div style=\"display: table-cell;\"></div><div style=\"display: table-cell;\">view&nbsp;=&nbsp;CDSView(id='17278', ...),</div></div><div class=\"17304\" style=\"display: none;\"><div style=\"display: table-cell;\"></div><div style=\"display: table-cell;\">visible&nbsp;=&nbsp;True,</div></div><div class=\"17304\" style=\"display: none;\"><div style=\"display: table-cell;\"></div><div style=\"display: table-cell;\">x_range_name&nbsp;=&nbsp;'default',</div></div><div class=\"17304\" style=\"display: none;\"><div style=\"display: table-cell;\"></div><div style=\"display: table-cell;\">y_range_name&nbsp;=&nbsp;'default')</div></div></div>\n",
              "<script>\n",
              "(function() {\n",
              "  var expanded = false;\n",
              "  var ellipsis = document.getElementById(\"17305\");\n",
              "  ellipsis.addEventListener(\"click\", function() {\n",
              "    var rows = document.getElementsByClassName(\"17304\");\n",
              "    for (var i = 0; i < rows.length; i++) {\n",
              "      var el = rows[i];\n",
              "      el.style.display = expanded ? \"none\" : \"table-row\";\n",
              "    }\n",
              "    ellipsis.innerHTML = expanded ? \"&hellip;)\" : \"&lsaquo;&lsaquo;&lsaquo;\";\n",
              "    expanded = !expanded;\n",
              "  });\n",
              "})();\n",
              "</script>\n"
            ],
            "text/plain": [
              "GlyphRenderer(id='17277', ...)"
            ]
          },
          "metadata": {
            "tags": []
          },
          "execution_count": 308
        }
      ]
    },
    {
      "cell_type": "code",
      "metadata": {
        "id": "6jM_6W9Re4Tb"
      },
      "source": [
        "fig_level_3.legend.location = 'top_right'"
      ],
      "execution_count": 309,
      "outputs": []
    },
    {
      "cell_type": "code",
      "metadata": {
        "id": "n8r8P16Fe5V-"
      },
      "source": [
        "fig_level_3.add_tools(HoverTool(tooltips=tooltips))\r\n",
        "fig_level_3.legend.click_policy=\"hide\""
      ],
      "execution_count": 310,
      "outputs": []
    },
    {
      "cell_type": "code",
      "metadata": {
        "id": "5n6iFYgNe7US"
      },
      "source": [
        "HS = data_vol[data_vol['Name'] == 'HANG SENG']\r\n",
        "NS = data_vol[data_vol['Name'] == 'NASDAQ']\r\n",
        "NK = data_vol[data_vol['Name'] == 'NIKKEI']"
      ],
      "execution_count": 311,
      "outputs": []
    },
    {
      "cell_type": "code",
      "metadata": {
        "id": "OAp4hOlHe8cb"
      },
      "source": [
        "HS_cds = ColumnDataSource(HS)\r\n",
        "NS_cds = ColumnDataSource(NS)\r\n",
        "NK_cds = ColumnDataSource(NK)"
      ],
      "execution_count": 312,
      "outputs": []
    },
    {
      "cell_type": "code",
      "metadata": {
        "id": "JqRwljAbe9jk"
      },
      "source": [
        "tooltips = [\r\n",
        "            ('Index', '@Name'),\r\n",
        "            ('Volume', '@{Volume}'),\r\n",
        "           ]"
      ],
      "execution_count": 313,
      "outputs": []
    },
    {
      "cell_type": "code",
      "metadata": {
        "id": "lm1qxCdLe-iH"
      },
      "source": [
        "fig1_level_3 = figure(x_axis_type='datetime',\r\n",
        "             plot_height=400, plot_width=600,\r\n",
        "             title='Volume',\r\n",
        "             x_axis_label='Date', y_axis_label='Volume',\r\n",
        "             toolbar_location=None)"
      ],
      "execution_count": 314,
      "outputs": []
    },
    {
      "cell_type": "code",
      "metadata": {
        "colab": {
          "base_uri": "https://localhost:8080/",
          "height": 34
        },
        "id": "GpdXaDWKe_fs",
        "outputId": "bfb05184-c07d-495d-a906-0dae89b58a0e"
      },
      "source": [
        "fig1_level_3.line('Date', 'Volume',\r\n",
        "         color='red', legend_label='Hang seng',\r\n",
        "         source=HS_cds)\r\n",
        "fig1_level_3.line('Date', 'Volume',\r\n",
        "         color='blue', legend_label='Nasdaq',\r\n",
        "         source=NS_cds)\r\n",
        "fig1_level_3.line('Date', 'Volume',\r\n",
        "         color='green', legend_label='Nikkie',\r\n",
        "         source=NK_cds)"
      ],
      "execution_count": 315,
      "outputs": [
        {
          "output_type": "execute_result",
          "data": {
            "text/html": [
              "<div style=\"display: table;\"><div style=\"display: table-row;\"><div style=\"display: table-cell;\"><b title=\"bokeh.models.renderers.GlyphRenderer\">GlyphRenderer</b>(</div><div style=\"display: table-cell;\">id&nbsp;=&nbsp;'17402', <span id=\"17430\" style=\"cursor: pointer;\">&hellip;)</span></div></div><div class=\"17429\" style=\"display: none;\"><div style=\"display: table-cell;\"></div><div style=\"display: table-cell;\">data_source&nbsp;=&nbsp;ColumnDataSource(id='17310', ...),</div></div><div class=\"17429\" style=\"display: none;\"><div style=\"display: table-cell;\"></div><div style=\"display: table-cell;\">glyph&nbsp;=&nbsp;Line(id='17400', ...),</div></div><div class=\"17429\" style=\"display: none;\"><div style=\"display: table-cell;\"></div><div style=\"display: table-cell;\">hover_glyph&nbsp;=&nbsp;None,</div></div><div class=\"17429\" style=\"display: none;\"><div style=\"display: table-cell;\"></div><div style=\"display: table-cell;\">js_event_callbacks&nbsp;=&nbsp;{},</div></div><div class=\"17429\" style=\"display: none;\"><div style=\"display: table-cell;\"></div><div style=\"display: table-cell;\">js_property_callbacks&nbsp;=&nbsp;{},</div></div><div class=\"17429\" style=\"display: none;\"><div style=\"display: table-cell;\"></div><div style=\"display: table-cell;\">level&nbsp;=&nbsp;'glyph',</div></div><div class=\"17429\" style=\"display: none;\"><div style=\"display: table-cell;\"></div><div style=\"display: table-cell;\">muted&nbsp;=&nbsp;False,</div></div><div class=\"17429\" style=\"display: none;\"><div style=\"display: table-cell;\"></div><div style=\"display: table-cell;\">muted_glyph&nbsp;=&nbsp;None,</div></div><div class=\"17429\" style=\"display: none;\"><div style=\"display: table-cell;\"></div><div style=\"display: table-cell;\">name&nbsp;=&nbsp;None,</div></div><div class=\"17429\" style=\"display: none;\"><div style=\"display: table-cell;\"></div><div style=\"display: table-cell;\">nonselection_glyph&nbsp;=&nbsp;Line(id='17401', ...),</div></div><div class=\"17429\" style=\"display: none;\"><div style=\"display: table-cell;\"></div><div style=\"display: table-cell;\">selection_glyph&nbsp;=&nbsp;None,</div></div><div class=\"17429\" style=\"display: none;\"><div style=\"display: table-cell;\"></div><div style=\"display: table-cell;\">subscribed_events&nbsp;=&nbsp;[],</div></div><div class=\"17429\" style=\"display: none;\"><div style=\"display: table-cell;\"></div><div style=\"display: table-cell;\">tags&nbsp;=&nbsp;[],</div></div><div class=\"17429\" style=\"display: none;\"><div style=\"display: table-cell;\"></div><div style=\"display: table-cell;\">view&nbsp;=&nbsp;CDSView(id='17403', ...),</div></div><div class=\"17429\" style=\"display: none;\"><div style=\"display: table-cell;\"></div><div style=\"display: table-cell;\">visible&nbsp;=&nbsp;True,</div></div><div class=\"17429\" style=\"display: none;\"><div style=\"display: table-cell;\"></div><div style=\"display: table-cell;\">x_range_name&nbsp;=&nbsp;'default',</div></div><div class=\"17429\" style=\"display: none;\"><div style=\"display: table-cell;\"></div><div style=\"display: table-cell;\">y_range_name&nbsp;=&nbsp;'default')</div></div></div>\n",
              "<script>\n",
              "(function() {\n",
              "  var expanded = false;\n",
              "  var ellipsis = document.getElementById(\"17430\");\n",
              "  ellipsis.addEventListener(\"click\", function() {\n",
              "    var rows = document.getElementsByClassName(\"17429\");\n",
              "    for (var i = 0; i < rows.length; i++) {\n",
              "      var el = rows[i];\n",
              "      el.style.display = expanded ? \"none\" : \"table-row\";\n",
              "    }\n",
              "    ellipsis.innerHTML = expanded ? \"&hellip;)\" : \"&lsaquo;&lsaquo;&lsaquo;\";\n",
              "    expanded = !expanded;\n",
              "  });\n",
              "})();\n",
              "</script>\n"
            ],
            "text/plain": [
              "GlyphRenderer(id='17402', ...)"
            ]
          },
          "metadata": {
            "tags": []
          },
          "execution_count": 315
        }
      ]
    },
    {
      "cell_type": "code",
      "metadata": {
        "id": "VC-_u9cXfAlj"
      },
      "source": [
        "fig1_level_3.legend.location = 'top_right'\r\n",
        "fig1_level_3.legend.click_policy=\"hide\""
      ],
      "execution_count": 316,
      "outputs": []
    },
    {
      "cell_type": "code",
      "metadata": {
        "id": "FPyD-k18fB3T"
      },
      "source": [
        "fig1_level_3.add_tools(HoverTool(tooltips=tooltips))"
      ],
      "execution_count": 317,
      "outputs": []
    },
    {
      "cell_type": "code",
      "metadata": {
        "id": "J-_2MMddfEAb"
      },
      "source": [
        "HS = data_dpc[data_dpc['Name'] == 'HANG SENG']\r\n",
        "NS = data_dpc[data_dpc['Name'] == 'NASDAQ']\r\n",
        "NK = data_dpc[data_dpc['Name'] == 'NIKKEI']"
      ],
      "execution_count": 318,
      "outputs": []
    },
    {
      "cell_type": "code",
      "metadata": {
        "id": "EZLxPE5yfE8T"
      },
      "source": [
        "HS_cds = ColumnDataSource(HS)\r\n",
        "NS_cds = ColumnDataSource(NS)\r\n",
        "NK_cds = ColumnDataSource(NK)"
      ],
      "execution_count": 319,
      "outputs": []
    },
    {
      "cell_type": "code",
      "metadata": {
        "id": "ZvRLY35wfGmS"
      },
      "source": [
        "tooltips = [\r\n",
        "            ('Index', '@Name'),\r\n",
        "            ('Day_Perc_Change', '@{Day_Perc_Change}'),\r\n",
        "           ]"
      ],
      "execution_count": 320,
      "outputs": []
    },
    {
      "cell_type": "code",
      "metadata": {
        "id": "t2PD8PqffHZL"
      },
      "source": [
        "fig2_level_3 = figure(x_axis_type='datetime',\r\n",
        "             plot_height=400, plot_width=600,\r\n",
        "             title='Daily Perc Change',\r\n",
        "             x_axis_label='Date', y_axis_label='Day_Perc_Change',\r\n",
        "             toolbar_location=None)"
      ],
      "execution_count": 321,
      "outputs": []
    },
    {
      "cell_type": "code",
      "metadata": {
        "colab": {
          "base_uri": "https://localhost:8080/",
          "height": 34
        },
        "id": "gUJId7_WfISG",
        "outputId": "8a2478b7-60b3-4eb2-8a37-aceb59501eca"
      },
      "source": [
        "fig2_level_3.line('Date', 'Day_Perc_Change',\r\n",
        "         color='red', legend_label='Hang seng',\r\n",
        "         source=HS_cds)\r\n",
        "fig2_level_3.line('Date', 'Day_Perc_Change',\r\n",
        "         color='blue', legend_label='Nasdaq',\r\n",
        "         source=NS_cds)\r\n",
        "fig2_level_3.line('Date', 'Day_Perc_Change',\r\n",
        "         color='green', legend_label='Nikkie',\r\n",
        "         source=NK_cds)"
      ],
      "execution_count": 322,
      "outputs": [
        {
          "output_type": "execute_result",
          "data": {
            "text/html": [
              "<div style=\"display: table;\"><div style=\"display: table-row;\"><div style=\"display: table-cell;\"><b title=\"bokeh.models.renderers.GlyphRenderer\">GlyphRenderer</b>(</div><div style=\"display: table-cell;\">id&nbsp;=&nbsp;'17527', <span id=\"17555\" style=\"cursor: pointer;\">&hellip;)</span></div></div><div class=\"17554\" style=\"display: none;\"><div style=\"display: table-cell;\"></div><div style=\"display: table-cell;\">data_source&nbsp;=&nbsp;ColumnDataSource(id='17435', ...),</div></div><div class=\"17554\" style=\"display: none;\"><div style=\"display: table-cell;\"></div><div style=\"display: table-cell;\">glyph&nbsp;=&nbsp;Line(id='17525', ...),</div></div><div class=\"17554\" style=\"display: none;\"><div style=\"display: table-cell;\"></div><div style=\"display: table-cell;\">hover_glyph&nbsp;=&nbsp;None,</div></div><div class=\"17554\" style=\"display: none;\"><div style=\"display: table-cell;\"></div><div style=\"display: table-cell;\">js_event_callbacks&nbsp;=&nbsp;{},</div></div><div class=\"17554\" style=\"display: none;\"><div style=\"display: table-cell;\"></div><div style=\"display: table-cell;\">js_property_callbacks&nbsp;=&nbsp;{},</div></div><div class=\"17554\" style=\"display: none;\"><div style=\"display: table-cell;\"></div><div style=\"display: table-cell;\">level&nbsp;=&nbsp;'glyph',</div></div><div class=\"17554\" style=\"display: none;\"><div style=\"display: table-cell;\"></div><div style=\"display: table-cell;\">muted&nbsp;=&nbsp;False,</div></div><div class=\"17554\" style=\"display: none;\"><div style=\"display: table-cell;\"></div><div style=\"display: table-cell;\">muted_glyph&nbsp;=&nbsp;None,</div></div><div class=\"17554\" style=\"display: none;\"><div style=\"display: table-cell;\"></div><div style=\"display: table-cell;\">name&nbsp;=&nbsp;None,</div></div><div class=\"17554\" style=\"display: none;\"><div style=\"display: table-cell;\"></div><div style=\"display: table-cell;\">nonselection_glyph&nbsp;=&nbsp;Line(id='17526', ...),</div></div><div class=\"17554\" style=\"display: none;\"><div style=\"display: table-cell;\"></div><div style=\"display: table-cell;\">selection_glyph&nbsp;=&nbsp;None,</div></div><div class=\"17554\" style=\"display: none;\"><div style=\"display: table-cell;\"></div><div style=\"display: table-cell;\">subscribed_events&nbsp;=&nbsp;[],</div></div><div class=\"17554\" style=\"display: none;\"><div style=\"display: table-cell;\"></div><div style=\"display: table-cell;\">tags&nbsp;=&nbsp;[],</div></div><div class=\"17554\" style=\"display: none;\"><div style=\"display: table-cell;\"></div><div style=\"display: table-cell;\">view&nbsp;=&nbsp;CDSView(id='17528', ...),</div></div><div class=\"17554\" style=\"display: none;\"><div style=\"display: table-cell;\"></div><div style=\"display: table-cell;\">visible&nbsp;=&nbsp;True,</div></div><div class=\"17554\" style=\"display: none;\"><div style=\"display: table-cell;\"></div><div style=\"display: table-cell;\">x_range_name&nbsp;=&nbsp;'default',</div></div><div class=\"17554\" style=\"display: none;\"><div style=\"display: table-cell;\"></div><div style=\"display: table-cell;\">y_range_name&nbsp;=&nbsp;'default')</div></div></div>\n",
              "<script>\n",
              "(function() {\n",
              "  var expanded = false;\n",
              "  var ellipsis = document.getElementById(\"17555\");\n",
              "  ellipsis.addEventListener(\"click\", function() {\n",
              "    var rows = document.getElementsByClassName(\"17554\");\n",
              "    for (var i = 0; i < rows.length; i++) {\n",
              "      var el = rows[i];\n",
              "      el.style.display = expanded ? \"none\" : \"table-row\";\n",
              "    }\n",
              "    ellipsis.innerHTML = expanded ? \"&hellip;)\" : \"&lsaquo;&lsaquo;&lsaquo;\";\n",
              "    expanded = !expanded;\n",
              "  });\n",
              "})();\n",
              "</script>\n"
            ],
            "text/plain": [
              "GlyphRenderer(id='17527', ...)"
            ]
          },
          "metadata": {
            "tags": []
          },
          "execution_count": 322
        }
      ]
    },
    {
      "cell_type": "code",
      "metadata": {
        "id": "cyTCXkl2fKFC"
      },
      "source": [
        "fig2_level_3.legend.location = 'top_right'\r\n",
        "fig2_level_3.legend.click_policy=\"hide\""
      ],
      "execution_count": 323,
      "outputs": []
    },
    {
      "cell_type": "code",
      "metadata": {
        "id": "faQ9GpHNfLJd"
      },
      "source": [
        "fig2_level_3.add_tools(HoverTool(tooltips=tooltips))"
      ],
      "execution_count": 324,
      "outputs": []
    },
    {
      "cell_type": "code",
      "metadata": {
        "id": "ZgD6vlkAfMBB"
      },
      "source": [
        "tab1_layout = layout([[fig,fig1,fig2]])\r\n",
        "tab1_level_2 = Panel(child = fig, title = 'Adj Close')\r\n",
        "tab2_level_2 = Panel(child = fig1, title = 'Volume')\r\n",
        "tab3_level_2 = Panel(child = fig2, title = 'Daily Perc Change')\r\n",
        "\r\n",
        "tab1_level_3 = Panel(child = fig_level_3, title = 'Adj Close')\r\n",
        "tab2_level_3 = Panel(child = fig1_level_3, title = 'Volume')\r\n",
        "tab3_level_3 = Panel(child = fig2_level_3, title = 'Daily Perc Change')\r\n",
        "\r\n",
        "tab1 = Panel(child = fig, title = 'LEVEL 1')\r\n",
        "tab2 = Panel(child = Tabs(tabs = [tab1_level_2, tab2_level_2, tab3_level_2]), title = 'LEVEL 2')\r\n",
        "tab3 = Panel(child = Tabs(tabs = [tab1_level_3, tab2_level_3, tab3_level_3]), title = 'LEVEL 3')\r\n",
        "\r\n",
        "table = Tabs(tabs = [tab1, tab2, tab3])\r\n",
        "curdoc().add_root(table)\r\n",
        "\r\n",
        "output_file('Visualization_1301174415.html',\r\n",
        "            title='Visualization Saham')\r\n",
        "\r\n",
        "show(table)"
      ],
      "execution_count": 325,
      "outputs": []
    }
  ]
}